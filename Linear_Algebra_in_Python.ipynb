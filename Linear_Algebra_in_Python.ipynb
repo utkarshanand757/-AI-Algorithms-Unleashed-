{
  "nbformat": 4,
  "nbformat_minor": 0,
  "metadata": {
    "colab": {
      "provenance": [],
      "authorship_tag": "ABX9TyMJfcFJ8mOgOE1M8ajfALGj",
      "include_colab_link": true
    },
    "kernelspec": {
      "name": "python3",
      "display_name": "Python 3"
    },
    "language_info": {
      "name": "python"
    }
  },
  "cells": [
    {
      "cell_type": "markdown",
      "metadata": {
        "id": "view-in-github",
        "colab_type": "text"
      },
      "source": [
        "<a href=\"https://colab.research.google.com/github/saurabhpsd/Main1/blob/main/Linear_Algebra_in_Python.ipynb\" target=\"_parent\"><img src=\"https://colab.research.google.com/assets/colab-badge.svg\" alt=\"Open In Colab\"/></a>"
      ]
    },
    {
      "cell_type": "markdown",
      "source": [
        "### Creating matrix using array feature in numpy"
      ],
      "metadata": {
        "id": "CRcuIGgr9ONX"
      }
    },
    {
      "cell_type": "code",
      "execution_count": 1,
      "metadata": {
        "colab": {
          "base_uri": "https://localhost:8080/"
        },
        "id": "h63hKayb4f8m",
        "outputId": "f800dbf2-551f-4d2d-bf0f-2da34fa157f1"
      },
      "outputs": [
        {
          "output_type": "stream",
          "name": "stdout",
          "text": [
            "A = [[ 1  3  7  2]\n",
            " [ 5  8 -9  0]\n",
            " [ 6 -7 11 12]]\n"
          ]
        }
      ],
      "source": [
        "import numpy as np\n",
        "\n",
        "A = np.array([[1, 3, 7, 2], [5, 8, -9, 0], [6, -7, 11, 12]])\n",
        "print(\"A =\", A)"
      ]
    },
    {
      "cell_type": "markdown",
      "source": [
        "### Matrix Addition and Subtraction"
      ],
      "metadata": {
        "id": "oMjEUQGO9gUK"
      }
    },
    {
      "cell_type": "code",
      "source": [
        "import numpy as np\n",
        "\n",
        "A = np.array([[0, 1],[-2, -3]])\n",
        "\n",
        "B = np.array([[1, 0],[3, -2]])\n",
        "\n",
        "C = A + B\n",
        "print(\"A+B =\", C)\n",
        "\n",
        "C = A - B\n",
        "print(\"A-B =\", C)"
      ],
      "metadata": {
        "colab": {
          "base_uri": "https://localhost:8080/"
        },
        "id": "uBvOSKEc_cd9",
        "outputId": "836d3824-7c45-4cd5-f97b-840b2a829991"
      },
      "execution_count": null,
      "outputs": [
        {
          "output_type": "stream",
          "name": "stdout",
          "text": [
            "A+B = [[ 1  1]\n",
            " [ 1 -5]]\n",
            "A-B = [[-1  1]\n",
            " [-5 -1]]\n"
          ]
        }
      ]
    },
    {
      "cell_type": "markdown",
      "source": [
        "### Matrix Multiplication Methods"
      ],
      "metadata": {
        "id": "2wB2ORQxA2Rn"
      }
    },
    {
      "cell_type": "code",
      "source": [
        "C = np.dot(A,B)\n",
        "print(\"A*B =\", C)"
      ],
      "metadata": {
        "colab": {
          "base_uri": "https://localhost:8080/"
        },
        "id": "EiZb1V_6ACoK",
        "outputId": "bba7f8cd-bb4c-4463-b881-82e9a794e5f9"
      },
      "execution_count": null,
      "outputs": [
        {
          "output_type": "stream",
          "name": "stdout",
          "text": [
            "A*B = [[  3  -2]\n",
            " [-11   6]]\n"
          ]
        }
      ]
    },
    {
      "cell_type": "code",
      "source": [
        "C = np.matmul(A,B)\n",
        "print(\"A*B =\", C)"
      ],
      "metadata": {
        "colab": {
          "base_uri": "https://localhost:8080/"
        },
        "id": "bxCEGccVANHE",
        "outputId": "ff0f34ca-1ee9-4039-bdcb-350b28c71812"
      },
      "execution_count": null,
      "outputs": [
        {
          "output_type": "stream",
          "name": "stdout",
          "text": [
            "A*B = [[  3  -2]\n",
            " [-11   6]]\n"
          ]
        }
      ]
    },
    {
      "cell_type": "code",
      "source": [
        "C = A.dot(B)\n",
        "print(\"A*B =\", C)"
      ],
      "metadata": {
        "colab": {
          "base_uri": "https://localhost:8080/"
        },
        "id": "ILsOvzgaAWHN",
        "outputId": "324c9de8-719d-4516-8861-0c52f661abcb"
      },
      "execution_count": null,
      "outputs": [
        {
          "output_type": "stream",
          "name": "stdout",
          "text": [
            "A*B = [[  3  -2]\n",
            " [-11   6]]\n"
          ]
        }
      ]
    },
    {
      "cell_type": "markdown",
      "source": [
        "### Creating Transpose of a Matrix"
      ],
      "metadata": {
        "id": "AhWcU7TiA-Vn"
      }
    },
    {
      "cell_type": "code",
      "source": [
        "import numpy as np\n",
        "\n",
        "A = np.array([[1, 3, 7, 2],\n",
        "[5, 8, -9, 0],\n",
        "[6, -7, 11, 12]])\n",
        "\n",
        "print(\"A=\"); print(A)\n",
        "\n",
        "Atr = np.transpose(A)\n",
        "print(\"Transpose of A=\"); print(Atr)"
      ],
      "metadata": {
        "colab": {
          "base_uri": "https://localhost:8080/"
        },
        "id": "-TdI7VGHBJHu",
        "outputId": "d9bcc7e8-5ac3-47c8-a647-def45e577617"
      },
      "execution_count": null,
      "outputs": [
        {
          "output_type": "stream",
          "name": "stdout",
          "text": [
            "A=\n",
            "[[ 1  3  7  2]\n",
            " [ 5  8 -9  0]\n",
            " [ 6 -7 11 12]]\n",
            "Transpose of A=\n",
            "[[ 1  5  6]\n",
            " [ 3  8 -7]\n",
            " [ 7 -9 11]\n",
            " [ 2  0 12]]\n"
          ]
        }
      ]
    },
    {
      "cell_type": "markdown",
      "source": [
        "### Creating Determinant of a Matrix"
      ],
      "metadata": {
        "id": "lV_p5ZyTBfJM"
      }
    },
    {
      "cell_type": "code",
      "source": [
        "import numpy as np\n",
        "import numpy.linalg as la\n",
        "\n",
        "A = np.array([[1, 2],\n",
        "[3, 4]])\n",
        "\n",
        "Adet = la.det(A)\n",
        "print(Adet)\n",
        "\n",
        "B = np.array([[-1, 3, 0],\n",
        "[2, 1, -5],\n",
        "[1, 4, -2]])\n",
        "\n",
        "Bdet = la.det(B)\n",
        "print(Bdet)"
      ],
      "metadata": {
        "colab": {
          "base_uri": "https://localhost:8080/"
        },
        "id": "vmcD62VzB5mB",
        "outputId": "a93b6954-2dd8-43b9-a7a8-74f37eaccab0"
      },
      "execution_count": null,
      "outputs": [
        {
          "output_type": "stream",
          "name": "stdout",
          "text": [
            "-2.0000000000000004\n",
            "-21.00000000000001\n"
          ]
        }
      ]
    },
    {
      "cell_type": "markdown",
      "source": [
        "### Inverse of a Matrix"
      ],
      "metadata": {
        "id": "tNzyVgrHCE6K"
      }
    },
    {
      "cell_type": "code",
      "source": [
        "import numpy as np\n",
        "import numpy.linalg as la\n",
        "\n",
        "A = np.array([[1, 2],\n",
        "[3, 4]])\n",
        "\n",
        "Ainv = la.inv(A)\n",
        "print(Ainv)\n",
        "\n",
        "B = np.array([[-1, 3, 0],\n",
        "[2, 1, -5],\n",
        "[1, 4, -2]])\n",
        "\n",
        "Binv = la.inv(B)\n",
        "print(Binv)"
      ],
      "metadata": {
        "colab": {
          "base_uri": "https://localhost:8080/"
        },
        "id": "QfbEm-bjCIbY",
        "outputId": "d9281041-b6bd-419a-fd11-6d60961f5e0c"
      },
      "execution_count": null,
      "outputs": [
        {
          "output_type": "stream",
          "name": "stdout",
          "text": [
            "[[-2.   1. ]\n",
            " [ 1.5 -0.5]]\n",
            "[[-0.85714286 -0.28571429  0.71428571]\n",
            " [ 0.04761905 -0.0952381   0.23809524]\n",
            " [-0.33333333 -0.33333333  0.33333333]]\n"
          ]
        }
      ]
    },
    {
      "cell_type": "markdown",
      "source": [
        "### Eigen Values"
      ],
      "metadata": {
        "id": "Br54bq4uCti-"
      }
    },
    {
      "cell_type": "code",
      "source": [
        "import numpy as np\n",
        "import numpy.linalg as la\n",
        "\n",
        "A = np.array([[0, 1],\n",
        "[-2, -3]])\n",
        "\n",
        "Aeig, v = la.eig(A)\n",
        "print(Aeig)"
      ],
      "metadata": {
        "colab": {
          "base_uri": "https://localhost:8080/"
        },
        "id": "L5PK6_dvCx30",
        "outputId": "4b82e6ef-4d46-44c4-b29f-4e7df4702d66"
      },
      "execution_count": null,
      "outputs": [
        {
          "output_type": "stream",
          "name": "stdout",
          "text": [
            "[-1. -2.]\n"
          ]
        }
      ]
    },
    {
      "cell_type": "markdown",
      "source": [
        "### Solving linear equations\n"
      ],
      "metadata": {
        "id": "BgJ8Ze8LD3nt"
      }
    },
    {
      "cell_type": "code",
      "source": [
        "import numpy as np\n",
        "import numpy.linalg as la\n",
        "\n",
        "A = np.array([[1, 2],\n",
        "[3, 4]])\n",
        "b = np.array([[5],\n",
        "[6]])\n",
        "\n",
        "Ainv = la.inv(A)\n",
        "\n",
        "x = Ainv.dot(b)\n",
        "\n",
        "print(x)"
      ],
      "metadata": {
        "colab": {
          "base_uri": "https://localhost:8080/"
        },
        "id": "2f6SN9HEEEMN",
        "outputId": "9f6e0c41-294f-4e33-d605-d6596d96a3af"
      },
      "execution_count": null,
      "outputs": [
        {
          "output_type": "stream",
          "name": "stdout",
          "text": [
            "[[-4. ]\n",
            " [ 4.5]]\n"
          ]
        }
      ]
    },
    {
      "cell_type": "markdown",
      "source": [
        "### Alternate Method"
      ],
      "metadata": {
        "id": "FqTACKXyEli3"
      }
    },
    {
      "cell_type": "code",
      "source": [
        "x = np.linalg.solve(A, b)\n",
        "print(x)"
      ],
      "metadata": {
        "colab": {
          "base_uri": "https://localhost:8080/"
        },
        "id": "dkB1jbEtEUIH",
        "outputId": "ab5606f9-573c-4eeb-f85b-802556eeb74c"
      },
      "execution_count": null,
      "outputs": [
        {
          "output_type": "stream",
          "name": "stdout",
          "text": [
            "[[-4. ]\n",
            " [ 4.5]]\n"
          ]
        }
      ]
    }
  ]
}